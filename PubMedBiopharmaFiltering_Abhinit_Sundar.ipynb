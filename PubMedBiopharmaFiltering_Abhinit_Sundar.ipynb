{
  "nbformat": 4,
  "nbformat_minor": 0,
  "metadata": {
    "colab": {
      "provenance": [],
      "authorship_tag": "ABX9TyOcODBzYEga6+ir5kO4yFjS",
      "include_colab_link": true
    },
    "kernelspec": {
      "name": "python3",
      "display_name": "Python 3"
    },
    "language_info": {
      "name": "python"
    }
  },
  "cells": [
    {
      "cell_type": "markdown",
      "metadata": {
        "id": "view-in-github",
        "colab_type": "text"
      },
      "source": [
        "<a href=\"https://colab.research.google.com/github/asundar0128/ResearchPapersQuery/blob/main/PubMedBiopharmaFiltering_Abhinit_Sundar.ipynb\" target=\"_parent\"><img src=\"https://colab.research.google.com/assets/colab-badge.svg\" alt=\"Open In Colab\"/></a>"
      ]
    },
    {
      "cell_type": "code",
      "execution_count": null,
      "metadata": {
        "colab": {
          "base_uri": "https://localhost:8080/"
        },
        "id": "1I2Imc5m_ZOk",
        "outputId": "36a0be33-49c6-4cd3-d914-e452e99a0339"
      },
      "outputs": [
        {
          "output_type": "stream",
          "name": "stdout",
          "text": [
            "\u001b[36mRetrieving Poetry metadata\u001b[0m\n",
            "\n",
            "# Welcome to \u001b[36mPoetry\u001b[0m!\n",
            "\n",
            "This will download and install the latest version of \u001b[36mPoetry\u001b[0m,\n",
            "a dependency and package manager for Python.\n",
            "\n",
            "It will add the `poetry` command to \u001b[36mPoetry\u001b[0m's bin directory, located at:\n",
            "\n",
            "\u001b[33m/root/.local/bin\u001b[0m\n",
            "\n",
            "You can uninstall at any time by executing this script with the --uninstall option,\n",
            "and these changes will be reverted.\n",
            "\n",
            "Installing \u001b[36mPoetry\u001b[0m (\u001b[36m2.1.3\u001b[0m)\n",
            "\u001b[1A\u001b[2KInstalling \u001b[36mPoetry\u001b[0m (\u001b[1m2.1.3\u001b[0m): \u001b[33mCreating environment\u001b[0m\n",
            "\u001b[1A\u001b[2KInstalling \u001b[36mPoetry\u001b[0m (\u001b[1m2.1.3\u001b[0m): \u001b[33mInstalling Poetry\u001b[0m\n",
            "\u001b[1A\u001b[2KInstalling \u001b[36mPoetry\u001b[0m (\u001b[1m2.1.3\u001b[0m): \u001b[33mCreating script\u001b[0m\n",
            "\u001b[1A\u001b[2KInstalling \u001b[36mPoetry\u001b[0m (\u001b[1m2.1.3\u001b[0m): \u001b[33mDone\u001b[0m\n",
            "\n",
            "\u001b[36mPoetry\u001b[0m (\u001b[1m2.1.3\u001b[0m) is installed now. Great!\n",
            "\n",
            "To get started you need \u001b[36mPoetry\u001b[0m's bin directory (\u001b[33m/root/.local/bin\u001b[0m) in your `PATH`\n",
            "environment variable.\n",
            "\n",
            "Add `export PATH=\"\u001b[33m/root/.local/bin\u001b[0m:$PATH\"` to your shell configuration file.\n",
            "\n",
            "Alternatively, you can call \u001b[36mPoetry\u001b[0m explicitly with `\u001b[1m/root/.local/bin/poetry\u001b[0m`.\n",
            "\n",
            "You can test that everything is set up by executing:\n",
            "\n",
            "`\u001b[1mpoetry --version\u001b[0m`\n",
            "\n"
          ]
        }
      ],
      "source": [
        "!curl -sSL https://install.python-poetry.org | python3 -\n",
        "import os\n",
        "os.environ[\"PATH\"] += \":/root/.local/bin\""
      ]
    },
    {
      "cell_type": "code",
      "source": [
        "!pip install biopython"
      ],
      "metadata": {
        "colab": {
          "base_uri": "https://localhost:8080/"
        },
        "id": "wESgiMFlGB-6",
        "outputId": "ecccd3d6-cf47-4cbc-923b-1aa719720db5"
      },
      "execution_count": null,
      "outputs": [
        {
          "output_type": "stream",
          "name": "stdout",
          "text": [
            "Collecting biopython\n",
            "  Downloading biopython-1.85-cp311-cp311-manylinux_2_17_x86_64.manylinux2014_x86_64.whl.metadata (13 kB)\n",
            "Requirement already satisfied: numpy in /usr/local/lib/python3.11/dist-packages (from biopython) (2.0.2)\n",
            "Downloading biopython-1.85-cp311-cp311-manylinux_2_17_x86_64.manylinux2014_x86_64.whl (3.3 MB)\n",
            "\u001b[2K   \u001b[90m━━━━━━━━━━━━━━━━━━━━━━━━━━━━━━━━━━━━━━━━\u001b[0m \u001b[32m3.3/3.3 MB\u001b[0m \u001b[31m26.1 MB/s\u001b[0m eta \u001b[36m0:00:00\u001b[0m\n",
            "\u001b[?25hInstalling collected packages: biopython\n",
            "Successfully installed biopython-1.85\n"
          ]
        }
      ]
    },
    {
      "cell_type": "code",
      "source": [
        "!poetry new pubmed_fetcher_project --src\n",
        "%cd pubmed_fetcher_project"
      ],
      "metadata": {
        "colab": {
          "base_uri": "https://localhost:8080/"
        },
        "id": "ErdxPVii_r-D",
        "outputId": "3aa3474d-1100-4d83-a85c-45d1b77708f0"
      },
      "execution_count": null,
      "outputs": [
        {
          "output_type": "stream",
          "name": "stdout",
          "text": [
            "The \u001b[36m--src\u001b[39m option is now the default and will be removed in a future version.\n",
            "Created package \u001b[34mpubmed_fetcher_project\u001b[39m in \u001b[34mpubmed_fetcher_project\u001b[39m\n",
            "/content/pubmed_fetcher_project\n"
          ]
        }
      ]
    },
    {
      "cell_type": "code",
      "source": [
        "# list of dependencies for Poetry Package\n",
        "PyProjectPoetryDependency = \"\"\"\n",
        "[tool.poetry]\n",
        "name = \"pubmed-fetcher\"\n",
        "version = \"0.1.0\"\n",
        "description = \"Fetch PubMed papers with biotech/pharma affiliations using typed, robust, and modular Python\"\n",
        "authors = [\"Abhinit Sundar <aks94@njit.edu>\"]\n",
        "packages = [{ include = \"pubmed_fetcher\" }]\n",
        "\n",
        "[tool.poetry.dependencies]\n",
        "python = \"^3.9\"\n",
        "biopython = \"^1.83\"\n",
        "pandas = \"^2.2.2\"\n",
        "tqdm = \"^4.66.4\"\n",
        "\n",
        "[tool.poetry.scripts]\n",
        "get-papers-list = \"pubmed_fetcher.cli:main\"\n",
        "\"\"\"\n",
        "with open(\"pyproject.toml\", \"w\") as f:\n",
        "    f.write(PyProjectPoetryDependency)"
      ],
      "metadata": {
        "id": "lVuPkKBT_z6l"
      },
      "execution_count": null,
      "outputs": []
    },
    {
      "cell_type": "code",
      "source": [
        "# creating a new directory pubmed_fetcher\n",
        "import os\n",
        "os.makedirs(\"pubmed_fetcher\", exist_ok=True)\n",
        "with open(\"pubmed_fetcher/__init__.py\", \"w\") as f:\n",
        "    f.write(\"\")"
      ],
      "metadata": {
        "id": "bUrmHlWuAM0l"
      },
      "execution_count": null,
      "outputs": []
    },
    {
      "cell_type": "code",
      "source": [
        "# importing packages typing, re, pandas, tqdm, and Bio\n",
        "from typing import List, Dict\n",
        "import re\n",
        "import pandas as pd\n",
        "from tqdm import tqdm\n",
        "from Bio import Entrez, Medline\n",
        "\n",
        "# Specifying my university email address for Entrez package\n",
        "Entrez.email = \"aks94@njit.edu\"\n",
        "\n",
        "# List of corporate keywords\n",
        "corporateKeywords = [\n",
        "    \"pharma\", \"pharmaceutical\", \"biotech\", \"biotechnology\",\n",
        "    \"inc\", \"ltd\", \"llc\", \"gmbh\", \"corp\", \"co.\", \"plc\"\n",
        "]\n",
        "\n",
        "# List of institutional keywords\n",
        "institutionalKeywords = [\n",
        "    \"university\", \"université\", \"universität\", \"institute\", \"school\",\n",
        "    \"college\", \"department\", \"faculty\", \"hospital\", \"centre\", \"center\",\n",
        "    \"clinic\", \"foundation\", \"research center\", \"research institute\"\n",
        "]\n",
        "\n",
        "# Finding keywords for company affiliation for both corporate and institutional\n",
        "def companyAffiliation(generatedAffiliation: str) -> bool:\n",
        "    lowercaseAffiliation = generatedAffiliation.lower()\n",
        "    return (\n",
        "        any(keyword in lowercaseAffiliation for keyword in corporateKeywords) and\n",
        "        not any(keyword in lowercaseAffiliation for keyword in institutionalKeywords)\n",
        "    )\n",
        "\n",
        "# Retrieving author's corresponding email address from record with each generated field data\n",
        "def retrievalEmailsFromRecord(generatedRecord: Dict, debug: bool = False) -> List[str]:\n",
        "    generatedEmailSet = set()\n",
        "    fieldsToCheck = [\"AD\", \"IR\", \"AID\", \"FAU\"]\n",
        "\n",
        "# checking for field data with generated record and field\n",
        "    for field in fieldsToCheck:\n",
        "        generatedFieldData = generatedRecord.get(field, [])\n",
        "        if isinstance(generatedFieldData, str):\n",
        "            generatedFieldData = [generatedFieldData]\n",
        "\n",
        "# checking for matched emails with regex and adding emails to the email set\n",
        "        for line in generatedFieldData:\n",
        "            matchedEmails = re.findall(r\"[\\w\\.-]+@[\\w\\.-]+\\.\\w+\", line)\n",
        "            if matchedEmails:\n",
        "                for email in matchedEmails:\n",
        "                    if \"noreply\" not in email.lower() and not email.lower().endswith(\"@example.com\"):\n",
        "                        generatedEmailSet.add(email)\n",
        "                        if debug:\n",
        "                            print(f\"[DEBUG] Found email in field '{field}': {email}\")\n",
        "\n",
        "    return list(generatedEmailSet)\n",
        "\n",
        "# Using esearch and read functions from Entrez within the pubmed database with a query and specified maximum results\n",
        "def search_pubmed(generatedQuery: str, generatedMaximumResults: int = 200) -> List[str]:\n",
        "    generatedHandle = Entrez.esearch(db=\"pubmed\", term=generatedQuery, retmax=generatedMaximumResults)\n",
        "    generatedRecord = Entrez.read(generatedHandle)\n",
        "    generatedHandle.close()\n",
        "    return generatedRecord[\"IdList\"]\n",
        "\n",
        "# Fetching the details from PubMedIDS with efetch function from Entrez for PubMed database\n",
        "def fetch_details(generatedPubMedIDS: List[str]) -> List[Dict]:\n",
        "    generatedHandle = Entrez.efetch(\n",
        "        db=\"pubmed\",\n",
        "        id=\",\".join(generatedPubMedIDS),\n",
        "        rettype=\"medline\",\n",
        "        retmode=\"text\"\n",
        "    )\n",
        "    generatedRecords = list(Medline.parse(generatedHandle))\n",
        "    generatedHandle.close()\n",
        "    return generatedRecords\n",
        "\n",
        "# Processing records with PMID, Title, Publication Date, Authors, and Affiliations\n",
        "def process_records(generatedRecords: List[Dict], debug: bool = False) -> pd.DataFrame:\n",
        "    generatedResults = []\n",
        "\n",
        "# using tqdm with generatedRecords and Processing\n",
        "    for generatedRecord in tqdm(generatedRecords, desc=\"Processing\"):\n",
        "        try:\n",
        "          # retrieving PMID, TI, DP, FAU, and AD for the record list\n",
        "            generatedPMID = generatedRecord.get(\"PMID\", \"\")\n",
        "            generatedTitle = generatedRecord.get(\"TI\", \"\")\n",
        "            generatedPublicationDateRaw = generatedRecord.get(\"DP\", \"\")\n",
        "            generatedAuthors = generatedRecord.get(\"FAU\", [])\n",
        "            generatedAffiliations = generatedRecord.get(\"AD\", [])\n",
        "\n",
        "            if isinstance(generatedAffiliations, str):\n",
        "                generatedAffiliations = [generatedAffiliations]\n",
        "# initializing non academic authors and company affiliations\n",
        "            generatedNonAcademicAuthors = []\n",
        "            generatedCompanyAffiliations = []\n",
        "\n",
        "            for generatedAffiliation in generatedAffiliations:\n",
        "                if debug:\n",
        "                    print(f\"[DEBUG] Affiliation: {generatedAffiliation}\")\n",
        "\n",
        "                if companyAffiliation(generatedAffiliation):\n",
        "                    generatedCompanyAffiliations.append(generatedAffiliation)\n",
        "\n",
        "            if generatedCompanyAffiliations and generatedAuthors:\n",
        "                generatedNonAcademicAuthors = generatedAuthors[:len(generatedCompanyAffiliations)]\n",
        "\n",
        "            generatedEmailList = retrievalEmailsFromRecord(generatedRecord, debug)\n",
        "            generatedCorrespondingEmail = generatedEmailList[0] if generatedEmailList else \"\"\n",
        "\n",
        " # retrieving the publication year with a regex search command\n",
        "            generatedPublicationYear = \"\"\n",
        "            yearMatch = re.search(r\"\\b(19|20)\\d{2}\\b\", generatedPublicationDateRaw)\n",
        "            if yearMatch:\n",
        "                generatedPublicationYear = yearMatch.group(0)\n",
        "\n",
        "            if generatedCompanyAffiliations:\n",
        "                generatedResults.append({\n",
        "                    \"PubmedID\": generatedPMID,\n",
        "                    \"Title\": generatedTitle,\n",
        "                    \"Publication Date\": generatedPublicationYear,\n",
        "                    \"Non-academic Author(s)\": \"; \".join(generatedNonAcademicAuthors),\n",
        "                    \"Company Affiliation(s)\": \"; \".join(generatedCompanyAffiliations),\n",
        "                    \"Corresponding Author Email\": generatedCorrespondingEmail,\n",
        "                    \"Raw Publication Date\": generatedPublicationDateRaw\n",
        "                })\n",
        "\n",
        "# exception handling for skipping records due to error\n",
        "        except Exception as generatedException:\n",
        "            if debug:\n",
        "                print(f\"[WARN] Skipping record due to error: {generatedException}\")\n",
        "            continue\n",
        "\n",
        "    return pd.DataFrame(generatedResults)"
      ],
      "metadata": {
        "id": "TeeVRVgvAOyK"
      },
      "execution_count": null,
      "outputs": []
    },
    {
      "cell_type": "code",
      "source": [
        "# command line interface parsing logic for supporting a user-defined PubMed query string\n",
        "generatedCLICode = \"\"\"\n",
        "import argparse\n",
        "import sys\n",
        "from pubmed_fetcher.core import search_pubmed, fetch_details, process_records\n",
        "\n",
        "def main():\n",
        "    generatedCommandLineParser = argparse.ArgumentParser(\n",
        "        description=\"Fetch PubMed papers with biotech/pharma affiliations\"\n",
        "    )\n",
        "\n",
        "    generatedCommandLineParser.add_argument(\n",
        "        \"query\",\n",
        "        type=str,\n",
        "        help=\"User-defined PubMed query string (supports full PubMed syntax)\"\n",
        "    )\n",
        "\n",
        "    generatedCommandLineParser.add_argument(\n",
        "        \"-d\", \"--debug\",\n",
        "        action=\"store_true\",\n",
        "        help=\"Enable debug logging during execution\"\n",
        "    )\n",
        "\n",
        "    generatedCommandLineParser.add_argument(\n",
        "        \"-f\", \"--file\",\n",
        "        type=str,\n",
        "        help=\"Optional CSV output filename (if omitted, prints to standard output)\"\n",
        "    )\n",
        "\n",
        "    generatedParsedArguments = generatedCommandLineParser.parse_args()\n",
        "\n",
        "    try:\n",
        "        generatedPubmedIDList = search_pubmed(generatedParsedArguments.query)\n",
        "\n",
        "        if not generatedPubmedIDList:\n",
        "            print(\"[INFO] No results found for the provided PubMed query.\")\n",
        "            return\n",
        "\n",
        "        generatedPublicationRecords = fetch_details(generatedPubmedIDList)\n",
        "        generatedProcessedDataFrame = process_records(\n",
        "            generatedPublicationRecords,\n",
        "            debug=generatedParsedArguments.debug\n",
        "        )\n",
        "\n",
        "        if generatedProcessedDataFrame.empty:\n",
        "            print(\"[INFO] No papers matched the biotech/pharma affiliation criteria.\")\n",
        "            return\n",
        "\n",
        "        if generatedParsedArguments.file:\n",
        "            generatedProcessedDataFrame.to_csv(generatedParsedArguments.file, index=False)\n",
        "            print(f\"[INFO] Results saved to: {generatedParsedArguments.file}\")\n",
        "        else:\n",
        "            print(generatedProcessedDataFrame.to_csv(index=False))\n",
        "\n",
        "    except Exception as generatedError:\n",
        "        print(f\"[ERROR] An unexpected error occurred: {generatedError}\", file=sys.stderr)\n",
        "        sys.exit(1)\n",
        "\"\"\"\n",
        "with open(\"pubmed_fetcher/cli.py\", \"w\") as f:\n",
        "    f.write(generatedCLICode)"
      ],
      "metadata": {
        "id": "jHtuDMH4BGs9"
      },
      "execution_count": null,
      "outputs": []
    },
    {
      "cell_type": "code",
      "source": [
        "!poetry install"
      ],
      "metadata": {
        "colab": {
          "base_uri": "https://localhost:8080/"
        },
        "id": "Tk7MhCuKBMK9",
        "outputId": "53e3500b-2b77-4049-9181-8ab592d495d0"
      },
      "execution_count": null,
      "outputs": [
        {
          "output_type": "stream",
          "name": "stdout",
          "text": [
            "\u001b[34mInstalling dependencies from lock file\u001b[39m\n",
            "\n",
            "No dependencies to install or update\n",
            "\n",
            "\u001b[39;1mInstalling\u001b[39;22m the current project: \u001b[36mpubmed-fetcher\u001b[39m (\u001b[39;1m0.1.0\u001b[39;22m)\u001b[1G\u001b[2K\u001b[39;1mInstalling\u001b[39;22m the current project: \u001b[36mpubmed-fetcher\u001b[39m (\u001b[32m0.1.0\u001b[39m)\n"
          ]
        }
      ]
    },
    {
      "cell_type": "code",
      "source": [
        "!poetry run get-papers-list \"(pharmaceutical OR biotech OR biotechnology OR pharma OR drug development OR biopharmaceutical OR life sciences OR medical company) AND (affiliation[Affiliation])\" -f filteredPubMedArticles.csv"
      ],
      "metadata": {
        "colab": {
          "base_uri": "https://localhost:8080/"
        },
        "id": "G8zaBBKSBYF-",
        "outputId": "fd905ab2-f75c-4773-ba40-595bbb52ba24"
      },
      "execution_count": null,
      "outputs": [
        {
          "output_type": "stream",
          "name": "stdout",
          "text": [
            "\rProcessing:   0% 0/200 [00:00<?, ?it/s]\rProcessing: 100% 200/200 [00:00<00:00, 22899.05it/s]\n",
            "[INFO] Results saved to: filteredPubMedArticles.csv\n"
          ]
        }
      ]
    },
    {
      "cell_type": "code",
      "source": [
        "!poetry run pytest"
      ],
      "metadata": {
        "colab": {
          "base_uri": "https://localhost:8080/"
        },
        "id": "7uK9LzxjDbBZ",
        "outputId": "bba9fab5-22db-4015-95e4-2ece0d755172"
      },
      "execution_count": 27,
      "outputs": [
        {
          "output_type": "stream",
          "name": "stdout",
          "text": [
            "\u001b[1m============================= test session starts ==============================\u001b[0m\n",
            "platform linux -- Python 3.11.13, pytest-8.3.5, pluggy-1.6.0\n",
            "rootdir: /content/pubmed_fetcher_project\n",
            "configfile: pyproject.toml\n",
            "plugins: anyio-4.9.0, langsmith-0.4.4, typeguard-4.4.4\n",
            "\u001b[1mcollecting ... \u001b[0m\u001b[1m\rcollected 0 items                                                              \u001b[0m\n",
            "\n",
            "\u001b[33m============================ \u001b[33mno tests ran\u001b[0m\u001b[33m in 0.01s\u001b[0m\u001b[33m =============================\u001b[0m\n"
          ]
        }
      ]
    }
  ]
}